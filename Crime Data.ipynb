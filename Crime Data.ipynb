{
 "cells": [
  {
   "cell_type": "code",
   "execution_count": 1,
   "metadata": {},
   "outputs": [],
   "source": [
    "import pandas as pd\n",
    "import matplotlib.pyplot as plt"
   ]
  },
  {
   "cell_type": "code",
   "execution_count": 2,
   "metadata": {},
   "outputs": [
    {
     "data": {
      "text/html": [
       "<div>\n",
       "<style scoped>\n",
       "    .dataframe tbody tr th:only-of-type {\n",
       "        vertical-align: middle;\n",
       "    }\n",
       "\n",
       "    .dataframe tbody tr th {\n",
       "        vertical-align: top;\n",
       "    }\n",
       "\n",
       "    .dataframe thead th {\n",
       "        text-align: right;\n",
       "    }\n",
       "</style>\n",
       "<table border=\"1\" class=\"dataframe\">\n",
       "  <thead>\n",
       "    <tr style=\"text-align: right;\">\n",
       "      <th></th>\n",
       "      <th>IncidntNum</th>\n",
       "      <th>Category</th>\n",
       "      <th>Descript</th>\n",
       "      <th>DayOfWeek</th>\n",
       "      <th>Date</th>\n",
       "      <th>Time</th>\n",
       "      <th>PdDistrict</th>\n",
       "      <th>Resolution</th>\n",
       "      <th>Address</th>\n",
       "      <th>X</th>\n",
       "      <th>Y</th>\n",
       "      <th>Location</th>\n",
       "    </tr>\n",
       "  </thead>\n",
       "  <tbody>\n",
       "    <tr>\n",
       "      <td>0</td>\n",
       "      <td>140009459</td>\n",
       "      <td>ARSON</td>\n",
       "      <td>ARSON</td>\n",
       "      <td>Saturday</td>\n",
       "      <td>1/4/2014</td>\n",
       "      <td>3:52</td>\n",
       "      <td>NORTHERN</td>\n",
       "      <td>ARREST, BOOKED</td>\n",
       "      <td>SACRAMENTO ST / POLK ST</td>\n",
       "      <td>-122.420875</td>\n",
       "      <td>37.791494</td>\n",
       "      <td>(37.7914943051906, -122.420874632415)</td>\n",
       "    </tr>\n",
       "    <tr>\n",
       "      <td>1</td>\n",
       "      <td>140042001</td>\n",
       "      <td>FRAUD</td>\n",
       "      <td>CREDIT CARD, THEFT BY USE OF</td>\n",
       "      <td>Wednesday</td>\n",
       "      <td>1/5/2014</td>\n",
       "      <td>12:30</td>\n",
       "      <td>CENTRAL</td>\n",
       "      <td>NONE</td>\n",
       "      <td>SANSOME ST / BUSH ST</td>\n",
       "      <td>-122.400749</td>\n",
       "      <td>37.791178</td>\n",
       "      <td>(37.7911776792224, -122.400748631911)</td>\n",
       "    </tr>\n",
       "    <tr>\n",
       "      <td>2</td>\n",
       "      <td>140071185</td>\n",
       "      <td>VEHICLE THEFT</td>\n",
       "      <td>STOLEN AUTOMOBILE</td>\n",
       "      <td>Thursday</td>\n",
       "      <td>1/6/2014</td>\n",
       "      <td>18:00</td>\n",
       "      <td>TARAVAL</td>\n",
       "      <td>NONE</td>\n",
       "      <td>WILSON ST / RHINE ST</td>\n",
       "      <td>-122.461139</td>\n",
       "      <td>37.709085</td>\n",
       "      <td>(37.7090849156407, -122.461139183524)</td>\n",
       "    </tr>\n",
       "    <tr>\n",
       "      <td>3</td>\n",
       "      <td>140094892</td>\n",
       "      <td>ASSAULT</td>\n",
       "      <td>BATTERY</td>\n",
       "      <td>Saturday</td>\n",
       "      <td>1/7/2014</td>\n",
       "      <td>16:33</td>\n",
       "      <td>SOUTHERN</td>\n",
       "      <td>NONE</td>\n",
       "      <td>MARKET ST / 3RD ST</td>\n",
       "      <td>-122.403434</td>\n",
       "      <td>37.787643</td>\n",
       "      <td>(37.78764305018, -122.403434086745)</td>\n",
       "    </tr>\n",
       "    <tr>\n",
       "      <td>4</td>\n",
       "      <td>140096371</td>\n",
       "      <td>ROBBERY</td>\n",
       "      <td>ROBBERY, BODILY FORCE</td>\n",
       "      <td>Sunday</td>\n",
       "      <td>1/8/2014</td>\n",
       "      <td>6:50</td>\n",
       "      <td>SOUTHERN</td>\n",
       "      <td>NONE</td>\n",
       "      <td>MISSION ST / 11TH ST</td>\n",
       "      <td>-122.417105</td>\n",
       "      <td>37.774324</td>\n",
       "      <td>(37.7743242867908, -122.417104895556)</td>\n",
       "    </tr>\n",
       "  </tbody>\n",
       "</table>\n",
       "</div>"
      ],
      "text/plain": [
       "   IncidntNum       Category                      Descript  DayOfWeek  \\\n",
       "0   140009459          ARSON                         ARSON   Saturday   \n",
       "1   140042001          FRAUD  CREDIT CARD, THEFT BY USE OF  Wednesday   \n",
       "2   140071185  VEHICLE THEFT             STOLEN AUTOMOBILE   Thursday   \n",
       "3   140094892        ASSAULT                       BATTERY   Saturday   \n",
       "4   140096371        ROBBERY         ROBBERY, BODILY FORCE     Sunday   \n",
       "\n",
       "       Date   Time PdDistrict      Resolution                  Address  \\\n",
       "0  1/4/2014   3:52   NORTHERN  ARREST, BOOKED  SACRAMENTO ST / POLK ST   \n",
       "1  1/5/2014  12:30    CENTRAL            NONE     SANSOME ST / BUSH ST   \n",
       "2  1/6/2014  18:00    TARAVAL            NONE     WILSON ST / RHINE ST   \n",
       "3  1/7/2014  16:33   SOUTHERN            NONE       MARKET ST / 3RD ST   \n",
       "4  1/8/2014   6:50   SOUTHERN            NONE     MISSION ST / 11TH ST   \n",
       "\n",
       "            X          Y                               Location  \n",
       "0 -122.420875  37.791494  (37.7914943051906, -122.420874632415)  \n",
       "1 -122.400749  37.791178  (37.7911776792224, -122.400748631911)  \n",
       "2 -122.461139  37.709085  (37.7090849156407, -122.461139183524)  \n",
       "3 -122.403434  37.787643    (37.78764305018, -122.403434086745)  \n",
       "4 -122.417105  37.774324  (37.7743242867908, -122.417104895556)  "
      ]
     },
     "execution_count": 2,
     "metadata": {},
     "output_type": "execute_result"
    }
   ],
   "source": [
    "crime=pd.read_csv('samplecrime.csv')\n",
    "crime.head()"
   ]
  },
  {
   "cell_type": "code",
   "execution_count": 3,
   "metadata": {},
   "outputs": [
    {
     "data": {
      "text/plain": [
       "OTHER OFFENSES                 192\n",
       "LARCENY/THEFT                  190\n",
       "NON-CRIMINAL                   154\n",
       "ASSAULT                        124\n",
       "WARRANTS                        58\n",
       "DRUG/NARCOTIC                   48\n",
       "VEHICLE THEFT                   46\n",
       "ROBBERY                         40\n",
       "VANDALISM                       27\n",
       "SUSPICIOUS OCC                  23\n",
       "MISSING PERSON                  20\n",
       "FRAUD                           17\n",
       "DRUNKENNESS                     10\n",
       "ARSON                            8\n",
       "WEAPON LAWS                      7\n",
       "SECONDARY CODES                  6\n",
       "BURGLARY                         6\n",
       "RUNAWAY                          5\n",
       "PROSTITUTION                     4\n",
       "KIDNAPPING                       4\n",
       "FORGERY/COUNTERFEITING           4\n",
       "TRESPASS                         4\n",
       "DISORDERLY CONDUCT               3\n",
       "LIQUOR LAWS                      2\n",
       "DRIVING UNDER THE INFLUENCE      2\n",
       "FAMILY OFFENSES                  1\n",
       "RECOVERED VEHICLE                1\n",
       "Name: Category, dtype: int64"
      ]
     },
     "execution_count": 3,
     "metadata": {},
     "output_type": "execute_result"
    }
   ],
   "source": [
    "crime['Category'].value_counts()"
   ]
  },
  {
   "cell_type": "code",
   "execution_count": 9,
   "metadata": {},
   "outputs": [
    {
     "data": {
      "text/plain": [
       "<matplotlib.axes._subplots.AxesSubplot at 0x1c782d7a788>"
      ]
     },
     "execution_count": 9,
     "metadata": {},
     "output_type": "execute_result"
    },
    {
     "data": {
      "image/png": "[encoded data removed]",
      "text/plain": [
       "<Figure size 432x288 with 1 Axes>"
      ]
     },
     "metadata": {
      "needs_background": "light"
     },
     "output_type": "display_data"
    }
   ],
   "source": [
    "crime['Category'].value_counts().head().plot(kind='bar',title='The Frequency of the Top 5 Categories of Crime',color='blue')"
   ]
  },
  {
   "cell_type": "code",
   "execution_count": 10,
   "metadata": {},
   "outputs": [
    {
     "data": {
      "text/plain": [
       "Wednesday    209\n",
       "Thursday     184\n",
       "Friday       162\n",
       "Sunday       126\n",
       "Saturday     111\n",
       "Monday       110\n",
       "Tuesday      104\n",
       "Name: DayOfWeek, dtype: int64"
      ]
     },
     "execution_count": 10,
     "metadata": {},
     "output_type": "execute_result"
    }
   ],
   "source": [
    "crime['DayOfWeek'].value_counts()"
   ]
  },
  {
   "cell_type": "code",
   "execution_count": 11,
   "metadata": {},
   "outputs": [
    {
     "data": {
      "text/plain": [
       "<matplotlib.axes._subplots.AxesSubplot at 0x1c782e2eac8>"
      ]
     },
     "execution_count": 11,
     "metadata": {},
     "output_type": "execute_result"
    },
    {
     "data": {
      "image/png": "[encoded data removed]",
      "text/plain": [
       "<Figure size 432x288 with 1 Axes>"
      ]
     },
     "metadata": {
      "needs_background": "light"
     },
     "output_type": "display_data"
    }
   ],
   "source": [
    "crime['DayOfWeek'].value_counts().plot(kind='barh',title='The frequencies of crime in each day of the week',color='Red')"
   ]
  },
  {
   "cell_type": "code",
   "execution_count": 12,
   "metadata": {},
   "outputs": [
    {
     "data": {
      "text/plain": [
       "SOUTHERN      208\n",
       "MISSION       158\n",
       "NORTHERN      137\n",
       "BAYVIEW        98\n",
       "CENTRAL        94\n",
       "INGLESIDE      88\n",
       "TENDERLOIN     77\n",
       "PARK           58\n",
       "TARAVAL        44\n",
       "RICHMOND       44\n",
       "Name: PdDistrict, dtype: int64"
      ]
     },
     "execution_count": 12,
     "metadata": {},
     "output_type": "execute_result"
    }
   ],
   "source": [
    "crime['PdDistrict'].value_counts()"
   ]
  },
  {
   "cell_type": "code",
   "execution_count": 13,
   "metadata": {},
   "outputs": [
    {
     "data": {
      "text/plain": [
       "<matplotlib.axes._subplots.AxesSubplot at 0x1c782ed0a08>"
      ]
     },
     "execution_count": 13,
     "metadata": {},
     "output_type": "execute_result"
    },
    {
     "data": {
      "image/png": "[encoded data removed]",
      "text/plain": [
       "<Figure size 432x288 with 1 Axes>"
      ]
     },
     "metadata": {
      "needs_background": "light"
     },
     "output_type": "display_data"
    }
   ],
   "source": [
    "crime['PdDistrict'].value_counts().plot(kind='bar',color='blue',title='Frequencies of crime in differenr districts')"
   ]
  },
  {
   "cell_type": "code",
   "execution_count": null,
   "metadata": {},
   "outputs": [],
   "source": []
  }
 ],
 "metadata": {
  "kernelspec": {
   "display_name": "Python 3",
   "language": "python",
   "name": "python3"
  },
  "language_info": {
   "codemirror_mode": {
    "name": "ipython",
    "version": 3
   },
   "file_extension": ".py",
   "mimetype": "text/x-python",
   "name": "python",
   "nbconvert_exporter": "python",
   "pygments_lexer": "ipython3",
   "version": "3.7.4"
  }
 },
 "nbformat": 4,
 "nbformat_minor": 2
}
